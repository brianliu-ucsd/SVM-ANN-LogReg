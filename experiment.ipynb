{
 "cells": [
  {
   "cell_type": "code",
   "execution_count": 1,
   "id": "893c46f9-4da6-4ce8-ba2a-6b1340787212",
   "metadata": {},
   "outputs": [],
   "source": [
    "import pandas as pd\n",
    "import numpy as np\n",
    "import matplotlib.pyplot as plt\n",
    "import seaborn as sns"
   ]
  },
  {
   "cell_type": "code",
   "execution_count": 2,
   "id": "41489bd1",
   "metadata": {},
   "outputs": [],
   "source": [
    "# load datasets\n",
    "transformedAbalone = pd.read_csv('transformed_ABALONE.csv')\n",
    "untransformedAbalone = pd.read_csv('untransformed_ABALONE.csv')\n",
    "transformedAdult = pd.read_csv('transformed_ADULT.csv')\n",
    "untransformedAdult = pd.read_csv('untransformed_ADULT.csv')\n",
    "transformedBankMarketing = pd.read_csv('transformed_BANKMARKETING.csv')\n",
    "untransformedBankMarketing = pd.read_csv('untransformed_BANKMARKETING.csv')"
   ]
  },
  {
   "cell_type": "code",
   "execution_count": 3,
   "id": "b40ae410",
   "metadata": {},
   "outputs": [],
   "source": [
    "transformed_datasets = {\n",
    "    'transformedAbalone': transformedAbalone,\n",
    "    'transformedAdult': transformedAdult,\n",
    "    'transformedBankMarketing': transformedBankMarketing\n",
    "}\n",
    "\n",
    "untransformed_datasets = {\n",
    "    'untransformedAbalone': untransformedAbalone,\n",
    "    'untransformedAdult': untransformedAdult,\n",
    "    'untransformedBankMarketing': untransformedBankMarketing\n",
    "}"
   ]
  },
  {
   "cell_type": "code",
   "execution_count": null,
   "id": "8f8ff915",
   "metadata": {},
   "outputs": [],
   "source": [
    "# SVM"
   ]
  },
  {
   "cell_type": "code",
   "execution_count": 8,
   "id": "05ec1ef2",
   "metadata": {},
   "outputs": [],
   "source": [
    "from sklearn.svm import SVC\n",
    "from sklearn.model_selection import StratifiedKFold, GridSearchCV, train_test_split\n",
    "from sklearn.metrics import accuracy_score"
   ]
  },
  {
   "cell_type": "code",
   "execution_count": 9,
   "id": "c2b4092b",
   "metadata": {},
   "outputs": [],
   "source": [
    "random_seeds = [42, 100, 2024]"
   ]
  },
  {
   "cell_type": "code",
   "execution_count": 10,
   "id": "e03f3d4d",
   "metadata": {},
   "outputs": [],
   "source": [
    "SVM_results = {}"
   ]
  },
  {
   "cell_type": "code",
   "execution_count": 11,
   "id": "3218203d",
   "metadata": {},
   "outputs": [],
   "source": [
    "# hyperparameters\n",
    "param_grid = {\n",
    "    'C': [0.1, 1, 10],\n",
    "    'kernel': ['linear', 'rbf'],\n",
    "    'gamma': ['scale', 'auto']\n",
    "}"
   ]
  },
  {
   "cell_type": "code",
   "execution_count": 12,
   "id": "e3903e94",
   "metadata": {},
   "outputs": [
    {
     "name": "stdout",
     "output_type": "stream",
     "text": [
      "transformedAbalone, training size 0.2, test accuracy 0.7860562537402753\n",
      "transformedAbalone, training size 0.2, test accuracy 0.7905445840813884\n",
      "transformedAbalone, training size 0.2, test accuracy 0.7845601436265709\n",
      "{'test_accuracies': [0.7860562537402753, 0.7905445840813884, 0.7845601436265709], 'best_params': [{'C': 10, 'gamma': 'scale', 'kernel': 'linear'}, {'C': 10, 'gamma': 'scale', 'kernel': 'rbf'}, {'C': 10, 'gamma': 'scale', 'kernel': 'linear'}], 'avg_accuracy': np.float64(0.7870536604827448)}\n",
      "transformedAbalone, training size 0.5, test accuracy 0.7951172809956917\n",
      "transformedAbalone, training size 0.5, test accuracy 0.7932024892292963\n",
      "transformedAbalone, training size 0.5, test accuracy 0.803733843944471\n",
      "{'test_accuracies': [0.7951172809956917, 0.7932024892292963, 0.803733843944471], 'best_params': [{'C': 10, 'gamma': 'auto', 'kernel': 'rbf'}, {'C': 10, 'gamma': 'auto', 'kernel': 'rbf'}, {'C': 10, 'gamma': 'scale', 'kernel': 'rbf'}], 'avg_accuracy': np.float64(0.797351204723153)}\n",
      "transformedAbalone, training size 0.8, test accuracy 0.7978468899521531\n",
      "transformedAbalone, training size 0.8, test accuracy 0.8086124401913876\n",
      "transformedAbalone, training size 0.8, test accuracy 0.7942583732057417\n",
      "{'test_accuracies': [0.7978468899521531, 0.8086124401913876, 0.7942583732057417], 'best_params': [{'C': 10, 'gamma': 'auto', 'kernel': 'rbf'}, {'C': 10, 'gamma': 'auto', 'kernel': 'rbf'}, {'C': 10, 'gamma': 'auto', 'kernel': 'rbf'}], 'avg_accuracy': np.float64(0.8002392344497608)}\n",
      "transformedAdult, training size 0.2, test accuracy 0.6671699851563699\n",
      "transformedAdult, training size 0.2, test accuracy 0.6688590878845267\n",
      "transformedAdult, training size 0.2, test accuracy 0.6706505604749962\n",
      "{'test_accuracies': [0.6671699851563699, 0.6688590878845267, 0.6706505604749962], 'best_params': [{'C': 1, 'gamma': 'scale', 'kernel': 'rbf'}, {'C': 1, 'gamma': 'scale', 'kernel': 'rbf'}, {'C': 1, 'gamma': 'scale', 'kernel': 'rbf'}], 'avg_accuracy': np.float64(0.6688932111719644)}\n",
      "transformedAdult, training size 0.5, test accuracy 0.6686867859629008\n",
      "transformedAdult, training size 0.5, test accuracy 0.6718807583637034\n",
      "transformedAdult, training size 0.5, test accuracy 0.6747471438516032\n",
      "{'test_accuracies': [0.6686867859629008, 0.6718807583637034, 0.6747471438516032], 'best_params': [{'C': 1, 'gamma': 'scale', 'kernel': 'rbf'}, {'C': 1, 'gamma': 'scale', 'kernel': 'rbf'}, {'C': 1, 'gamma': 'scale', 'kernel': 'rbf'}], 'avg_accuracy': np.float64(0.6717715627260691)}\n",
      "transformedAdult, training size 0.8, test accuracy 0.6667007882075955\n",
      "transformedAdult, training size 0.8, test accuracy 0.6700788207595455\n",
      "transformedAdult, training size 0.8, test accuracy 0.6733544886887092\n",
      "{'test_accuracies': [0.6667007882075955, 0.6700788207595455, 0.6733544886887092], 'best_params': [{'C': 1, 'gamma': 'scale', 'kernel': 'rbf'}, {'C': 1, 'gamma': 'scale', 'kernel': 'rbf'}, {'C': 1, 'gamma': 'scale', 'kernel': 'rbf'}], 'avg_accuracy': np.float64(0.6700446992186168)}\n",
      "transformedBankMarketing, training size 0.2, test accuracy 0.897066548701927\n",
      "transformedBankMarketing, training size 0.2, test accuracy 0.8928640548536039\n",
      "transformedBankMarketing, training size 0.2, test accuracy 0.8962647571124444\n",
      "{'test_accuracies': [0.897066548701927, 0.8928640548536039, 0.8962647571124444], 'best_params': [{'C': 10, 'gamma': 'scale', 'kernel': 'rbf'}, {'C': 10, 'gamma': 'scale', 'kernel': 'rbf'}, {'C': 10, 'gamma': 'auto', 'kernel': 'rbf'}], 'avg_accuracy': np.float64(0.8953984535559917)}\n",
      "transformedBankMarketing, training size 0.5, test accuracy 0.9005573741484562\n",
      "transformedBankMarketing, training size 0.5, test accuracy 0.8974608511014774\n",
      "transformedBankMarketing, training size 0.5, test accuracy 0.8987436963637973\n",
      "{'test_accuracies': [0.9005573741484562, 0.8974608511014774, 0.8987436963637973], 'best_params': [{'C': 10, 'gamma': 'scale', 'kernel': 'rbf'}, {'C': 10, 'gamma': 'scale', 'kernel': 'rbf'}, {'C': 10, 'gamma': 'scale', 'kernel': 'rbf'}], 'avg_accuracy': np.float64(0.8989206405379103)}\n",
      "transformedBankMarketing, training size 0.8, test accuracy 0.9026871613402632\n",
      "transformedBankMarketing, training size 0.8, test accuracy 0.9029083268826716\n",
      "transformedBankMarketing, training size 0.8, test accuracy 0.9031294924250802\n",
      "{'test_accuracies': [0.9026871613402632, 0.9029083268826716, 0.9031294924250802], 'best_params': [{'C': 10, 'gamma': 'scale', 'kernel': 'rbf'}, {'C': 10, 'gamma': 'scale', 'kernel': 'rbf'}, {'C': 10, 'gamma': 'scale', 'kernel': 'rbf'}], 'avg_accuracy': np.float64(0.9029083268826716)}\n"
     ]
    }
   ],
   "source": [
    "for dataset_name, dataset in transformed_datasets.items():\n",
    "    X = dataset.iloc[:, :-1].values\n",
    "    y = dataset.iloc[:, -1].values\n",
    "\n",
    "    dataset_results = {}\n",
    "\n",
    "    for training_size in (0.2, 0.5, 0.8):\n",
    "        partition_results = {'test_accuracies': [], 'best_params': []}\n",
    "\n",
    "        for seed in random_seeds:\n",
    "            Xtrain, Xtest, ytrain, ytest = train_test_split(X, y, train_size=training_size, stratify=y, random_state=seed)\n",
    "\n",
    "            cv = StratifiedKFold(n_splits=3, shuffle=True, random_state=seed)\n",
    "            grid_search = GridSearchCV(SVC(), param_grid, cv=cv, scoring='accuracy', n_jobs=-1)\n",
    "\n",
    "            grid_search.fit(Xtrain, ytrain)\n",
    "            best_params = grid_search.best_params_\n",
    "\n",
    "            best_SVM = SVC(**best_params)\n",
    "            best_SVM.fit(Xtrain, ytrain)\n",
    "            y_pred = best_SVM.predict(Xtest)\n",
    "            test_accuracy = accuracy_score(ytest, y_pred)\n",
    "\n",
    "            partition_results['test_accuracies'].append(test_accuracy)\n",
    "            partition_results['best_params'].append(best_params)\n",
    "\n",
    "            print(f\"{dataset_name}, training size {training_size}, test accuracy {test_accuracy}\")\n",
    "        \n",
    "        avg_accuracy = np.mean(partition_results['test_accuracies'])\n",
    "        partition_results['avg_accuracy'] = avg_accuracy \n",
    "\n",
    "        print(partition_results)\n",
    "        dataset_results[training_size] = partition_results\n",
    "\n",
    "    SVM_results[dataset_name] = dataset_results"
   ]
  },
  {
   "cell_type": "code",
   "execution_count": 16,
   "id": "83e8291f",
   "metadata": {},
   "outputs": [
    {
     "data": {
      "text/plain": [
       "{'transformedAbalone': {0.2: {'test_accuracies': [0.7860562537402753,\n",
       "    0.7905445840813884,\n",
       "    0.7845601436265709],\n",
       "   'best_params': [{'C': 10, 'gamma': 'scale', 'kernel': 'linear'},\n",
       "    {'C': 10, 'gamma': 'scale', 'kernel': 'rbf'},\n",
       "    {'C': 10, 'gamma': 'scale', 'kernel': 'linear'}],\n",
       "   'avg_accuracy': np.float64(0.7870536604827448)},\n",
       "  0.5: {'test_accuracies': [0.7951172809956917,\n",
       "    0.7932024892292963,\n",
       "    0.803733843944471],\n",
       "   'best_params': [{'C': 10, 'gamma': 'auto', 'kernel': 'rbf'},\n",
       "    {'C': 10, 'gamma': 'auto', 'kernel': 'rbf'},\n",
       "    {'C': 10, 'gamma': 'scale', 'kernel': 'rbf'}],\n",
       "   'avg_accuracy': np.float64(0.797351204723153)},\n",
       "  0.8: {'test_accuracies': [0.7978468899521531,\n",
       "    0.8086124401913876,\n",
       "    0.7942583732057417],\n",
       "   'best_params': [{'C': 10, 'gamma': 'auto', 'kernel': 'rbf'},\n",
       "    {'C': 10, 'gamma': 'auto', 'kernel': 'rbf'},\n",
       "    {'C': 10, 'gamma': 'auto', 'kernel': 'rbf'}],\n",
       "   'avg_accuracy': np.float64(0.8002392344497608)}},\n",
       " 'transformedAdult': {0.2: {'test_accuracies': [0.6671699851563699,\n",
       "    0.6688590878845267,\n",
       "    0.6706505604749962],\n",
       "   'best_params': [{'C': 1, 'gamma': 'scale', 'kernel': 'rbf'},\n",
       "    {'C': 1, 'gamma': 'scale', 'kernel': 'rbf'},\n",
       "    {'C': 1, 'gamma': 'scale', 'kernel': 'rbf'}],\n",
       "   'avg_accuracy': np.float64(0.6688932111719644)},\n",
       "  0.5: {'test_accuracies': [0.6686867859629008,\n",
       "    0.6718807583637034,\n",
       "    0.6747471438516032],\n",
       "   'best_params': [{'C': 1, 'gamma': 'scale', 'kernel': 'rbf'},\n",
       "    {'C': 1, 'gamma': 'scale', 'kernel': 'rbf'},\n",
       "    {'C': 1, 'gamma': 'scale', 'kernel': 'rbf'}],\n",
       "   'avg_accuracy': np.float64(0.6717715627260691)},\n",
       "  0.8: {'test_accuracies': [0.6667007882075955,\n",
       "    0.6700788207595455,\n",
       "    0.6733544886887092],\n",
       "   'best_params': [{'C': 1, 'gamma': 'scale', 'kernel': 'rbf'},\n",
       "    {'C': 1, 'gamma': 'scale', 'kernel': 'rbf'},\n",
       "    {'C': 1, 'gamma': 'scale', 'kernel': 'rbf'}],\n",
       "   'avg_accuracy': np.float64(0.6700446992186168)}},\n",
       " 'transformedBankMarketing': {0.2: {'test_accuracies': [0.897066548701927,\n",
       "    0.8928640548536039,\n",
       "    0.8962647571124444],\n",
       "   'best_params': [{'C': 10, 'gamma': 'scale', 'kernel': 'rbf'},\n",
       "    {'C': 10, 'gamma': 'scale', 'kernel': 'rbf'},\n",
       "    {'C': 10, 'gamma': 'auto', 'kernel': 'rbf'}],\n",
       "   'avg_accuracy': np.float64(0.8953984535559917)},\n",
       "  0.5: {'test_accuracies': [0.9005573741484562,\n",
       "    0.8974608511014774,\n",
       "    0.8987436963637973],\n",
       "   'best_params': [{'C': 10, 'gamma': 'scale', 'kernel': 'rbf'},\n",
       "    {'C': 10, 'gamma': 'scale', 'kernel': 'rbf'},\n",
       "    {'C': 10, 'gamma': 'scale', 'kernel': 'rbf'}],\n",
       "   'avg_accuracy': np.float64(0.8989206405379103)},\n",
       "  0.8: {'test_accuracies': [0.9026871613402632,\n",
       "    0.9029083268826716,\n",
       "    0.9031294924250802],\n",
       "   'best_params': [{'C': 10, 'gamma': 'scale', 'kernel': 'rbf'},\n",
       "    {'C': 10, 'gamma': 'scale', 'kernel': 'rbf'},\n",
       "    {'C': 10, 'gamma': 'scale', 'kernel': 'rbf'}],\n",
       "   'avg_accuracy': np.float64(0.9029083268826716)}}}"
      ]
     },
     "execution_count": 16,
     "metadata": {},
     "output_type": "execute_result"
    }
   ],
   "source": [
    "SVM_results"
   ]
  },
  {
   "cell_type": "code",
   "execution_count": null,
   "id": "5a933f2f",
   "metadata": {},
   "outputs": [
    {
     "name": "stdout",
     "output_type": "stream",
     "text": [
      "transformedAbalone with training size 0.2; average accuracy: 0.7870536604827448\n",
      "transformedAbalone with training size 0.5; average accuracy: 0.797351204723153\n",
      "transformedAbalone with training size 0.8; average accuracy: 0.8002392344497608\n",
      "transformedAdult with training size 0.2; average accuracy: 0.6688932111719644\n",
      "transformedAdult with training size 0.5; average accuracy: 0.6717715627260691\n",
      "transformedAdult with training size 0.8; average accuracy: 0.6700446992186168\n",
      "transformedBankMarketing with training size 0.2; average accuracy: 0.8953984535559917\n",
      "transformedBankMarketing with training size 0.5; average accuracy: 0.8989206405379103\n",
      "transformedBankMarketing with training size 0.8; average accuracy: 0.9029083268826716\n"
     ]
    }
   ],
   "source": [
    "for dataset_name, results in SVM_results.items():\n",
    "    for training_size in (0.2, 0.5, 0.8):\n",
    "        avg_accuracy = results[training_size]['avg_accuracy']\n",
    "        print(f\"{dataset_name} with training size {training_size}; average accuracy: {avg_accuracy}\")"
   ]
  },
  {
   "cell_type": "code",
   "execution_count": null,
   "id": "d045cab8",
   "metadata": {},
   "outputs": [],
   "source": [
    "# ANN"
   ]
  },
  {
   "cell_type": "code",
   "execution_count": 83,
   "id": "fc56a694",
   "metadata": {},
   "outputs": [],
   "source": [
    "from sklearn.neural_network import MLPClassifier"
   ]
  },
  {
   "cell_type": "code",
   "execution_count": 84,
   "id": "dc602e37",
   "metadata": {},
   "outputs": [],
   "source": [
    "ANN_results = {}"
   ]
  },
  {
   "cell_type": "code",
   "execution_count": null,
   "id": "d79679fd",
   "metadata": {},
   "outputs": [],
   "source": [
    "param_grid = {\n",
    "    'hidden_layer_sizes': [(50,), (100,), (50,50), (100,50)],\n",
    "}"
   ]
  },
  {
   "cell_type": "code",
   "execution_count": 86,
   "id": "52cd9f34",
   "metadata": {},
   "outputs": [
    {
     "name": "stdout",
     "output_type": "stream",
     "text": [
      "transformedAbalone, training size 0.2, test accuracy 0.7776780371035308\n",
      "transformedAbalone, training size 0.2, test accuracy 0.7860562537402753\n",
      "transformedAbalone, training size 0.2, test accuracy 0.7758827049670856\n",
      "{'test_accuracies': [0.7776780371035308, 0.7860562537402753, 0.7758827049670856], 'best_params': [{'hidden_layer_sizes': (100, 50)}, {'hidden_layer_sizes': (100, 50)}, {'hidden_layer_sizes': (100, 50)}], 'avg_accuracy': np.float64(0.7798723319369639)}\n",
      "transformedAbalone, training size 0.5, test accuracy 0.7917663954044998\n",
      "transformedAbalone, training size 0.5, test accuracy 0.7802776448061274\n",
      "transformedAbalone, training size 0.5, test accuracy 0.7989468645284825\n",
      "{'test_accuracies': [0.7917663954044998, 0.7802776448061274, 0.7989468645284825], 'best_params': [{'hidden_layer_sizes': (100, 50)}, {'hidden_layer_sizes': (100, 50)}, {'hidden_layer_sizes': (100, 50)}], 'avg_accuracy': np.float64(0.7903303015797033)}\n",
      "transformedAbalone, training size 0.8, test accuracy 0.7858851674641149\n",
      "transformedAbalone, training size 0.8, test accuracy 0.8050239234449761\n",
      "transformedAbalone, training size 0.8, test accuracy 0.7858851674641149\n",
      "{'test_accuracies': [0.7858851674641149, 0.8050239234449761, 0.7858851674641149], 'best_params': [{'hidden_layer_sizes': (100, 50)}, {'hidden_layer_sizes': (100, 50)}, {'hidden_layer_sizes': (100, 50)}], 'avg_accuracy': np.float64(0.7922647527910686)}\n",
      "transformedAdult, training size 0.2, test accuracy 0.5993499513743153\n",
      "transformedAdult, training size 0.2, test accuracy 0.5982494753544556\n",
      "transformedAdult, training size 0.2, test accuracy 0.5930797973076726\n",
      "{'test_accuracies': [0.5993499513743153, 0.5982494753544556, 0.5930797973076726], 'best_params': [{'hidden_layer_sizes': (100, 50)}, {'hidden_layer_sizes': (100, 50)}, {'hidden_layer_sizes': (100, 50)}], 'avg_accuracy': np.float64(0.5968930746788145)}\n",
      "transformedAdult, training size 0.5, test accuracy 0.6146758936980468\n",
      "transformedAdult, training size 0.5, test accuracy 0.6146349453339339\n",
      "transformedAdult, training size 0.5, test accuracy 0.6116457147536956\n",
      "{'test_accuracies': [0.6146758936980468, 0.6146349453339339, 0.6116457147536956], 'best_params': [{'hidden_layer_sizes': (100, 50)}, {'hidden_layer_sizes': (100, 50)}, {'hidden_layer_sizes': (100, 50)}], 'avg_accuracy': np.float64(0.6136521845952254)}\n",
      "transformedAdult, training size 0.8, test accuracy 0.6019039819838264\n",
      "transformedAdult, training size 0.8, test accuracy 0.6069198485003583\n",
      "transformedAdult, training size 0.8, test accuracy 0.6091718702016583\n",
      "{'test_accuracies': [0.6019039819838264, 0.6069198485003583, 0.6091718702016583], 'best_params': [{'hidden_layer_sizes': (100, 50)}, {'hidden_layer_sizes': (100, 50)}, {'hidden_layer_sizes': (100, 50)}], 'avg_accuracy': np.float64(0.605998566895281)}\n",
      "transformedBankMarketing, training size 0.2, test accuracy 0.877685310625121\n",
      "transformedBankMarketing, training size 0.2, test accuracy 0.8730404490032901\n",
      "transformedBankMarketing, training size 0.2, test accuracy 0.8865603140811192\n",
      "{'test_accuracies': [0.877685310625121, 0.8730404490032901, 0.8865603140811192], 'best_params': [{'hidden_layer_sizes': (100, 50)}, {'hidden_layer_sizes': (100, 50)}, {'hidden_layer_sizes': (100, 50)}], 'avg_accuracy': np.float64(0.8790953579031768)}\n",
      "transformedBankMarketing, training size 0.5, test accuracy 0.8811819870830753\n",
      "transformedBankMarketing, training size 0.5, test accuracy 0.8811819870830753\n",
      "transformedBankMarketing, training size 0.5, test accuracy 0.8749004689020614\n",
      "{'test_accuracies': [0.8811819870830753, 0.8811819870830753, 0.8749004689020614], 'best_params': [{'hidden_layer_sizes': (100, 50)}, {'hidden_layer_sizes': (100, 50)}, {'hidden_layer_sizes': (100, 50)}], 'avg_accuracy': np.float64(0.879088147689404)}\n",
      "transformedBankMarketing, training size 0.8, test accuracy 0.8904124737365918\n",
      "transformedBankMarketing, training size 0.8, test accuracy 0.8775848722768993\n",
      "transformedBankMarketing, training size 0.8, test accuracy 0.8799071104721884\n",
      "{'test_accuracies': [0.8904124737365918, 0.8775848722768993, 0.8799071104721884], 'best_params': [{'hidden_layer_sizes': (100, 50)}, {'hidden_layer_sizes': (100, 50)}, {'hidden_layer_sizes': (100, 50)}], 'avg_accuracy': np.float64(0.8826348188285599)}\n"
     ]
    }
   ],
   "source": [
    "for dataset_name, dataset in transformed_datasets.items():\n",
    "    X = dataset.iloc[:, :-1].values\n",
    "    y = dataset.iloc[:, -1].values\n",
    "\n",
    "    dataset_results = {}\n",
    "\n",
    "    for training_size in (0.2, 0.5, 0.8):\n",
    "        partition_results = {'test_accuracies': [], 'best_params': []}\n",
    "\n",
    "        for seed in random_seeds:\n",
    "            Xtrain, Xtest, ytrain, ytest = train_test_split(X, y, train_size=training_size, stratify=y, random_state=seed)\n",
    "\n",
    "            cv = StratifiedKFold(n_splits=3, shuffle=True, random_state=seed)\n",
    "            grid_search = GridSearchCV(MLPClassifier(random_state=seed, max_iter=1000), param_grid=param_grid, cv=cv, scoring='accuracy', n_jobs=-1)\n",
    "            \n",
    "            grid_search.fit(Xtrain, ytrain)\n",
    "            best_params = grid_search.best_params_\n",
    "\n",
    "            best_ANN = MLPClassifier(**best_params, random_state=seed, max_iter=1000)\n",
    "            best_ANN.fit(Xtrain, ytrain)\n",
    "\n",
    "            y_pred = best_ANN.predict(Xtest)\n",
    "            test_accuracy = accuracy_score(ytest, y_pred)\n",
    "\n",
    "            partition_results['test_accuracies'].append(test_accuracy)\n",
    "            partition_results['best_params'].append(best_params)\n",
    "\n",
    "            print(f\"{dataset_name}, training size {training_size}, test accuracy {test_accuracy}\")\n",
    "        \n",
    "        avg_accuracy = np.mean(partition_results['test_accuracies'])\n",
    "        partition_results['avg_accuracy'] = avg_accuracy \n",
    "\n",
    "        print(partition_results)\n",
    "        dataset_results[training_size] = partition_results\n",
    "\n",
    "    ANN_results[dataset_name] = dataset_results"
   ]
  },
  {
   "cell_type": "code",
   "execution_count": 87,
   "id": "90b695cd",
   "metadata": {},
   "outputs": [
    {
     "name": "stdout",
     "output_type": "stream",
     "text": [
      "transformedAbalone with training size 0.2; average accuracy: 0.7798723319369639\n",
      "transformedAbalone with training size 0.5; average accuracy: 0.7903303015797033\n",
      "transformedAbalone with training size 0.8; average accuracy: 0.7922647527910686\n",
      "transformedAdult with training size 0.2; average accuracy: 0.5968930746788145\n",
      "transformedAdult with training size 0.5; average accuracy: 0.6136521845952254\n",
      "transformedAdult with training size 0.8; average accuracy: 0.605998566895281\n",
      "transformedBankMarketing with training size 0.2; average accuracy: 0.8790953579031768\n",
      "transformedBankMarketing with training size 0.5; average accuracy: 0.879088147689404\n",
      "transformedBankMarketing with training size 0.8; average accuracy: 0.8826348188285599\n"
     ]
    }
   ],
   "source": [
    "for dataset_name, results in ANN_results.items():\n",
    "    for training_size in (0.2, 0.5, 0.8):\n",
    "        avg_accuracy = results[training_size]['avg_accuracy']\n",
    "        print(f\"{dataset_name} with training size {training_size}; average accuracy: {avg_accuracy}\")"
   ]
  },
  {
   "cell_type": "code",
   "execution_count": null,
   "id": "f9e02eee",
   "metadata": {},
   "outputs": [],
   "source": [
    "# LogReg"
   ]
  },
  {
   "cell_type": "code",
   "execution_count": 93,
   "id": "e0514688",
   "metadata": {},
   "outputs": [],
   "source": [
    "from sklearn.linear_model import LogisticRegression\n",
    "import warnings\n",
    "warnings.filterwarnings('ignore')"
   ]
  },
  {
   "cell_type": "code",
   "execution_count": 94,
   "id": "f59b80f0",
   "metadata": {},
   "outputs": [],
   "source": [
    "LR_results = {}"
   ]
  },
  {
   "cell_type": "code",
   "execution_count": 95,
   "id": "73b0b7b5",
   "metadata": {},
   "outputs": [],
   "source": [
    "param_grid = {\n",
    "    'C': [0.1, 10],\n",
    "    'penalty': ['l1', 'l2']\n",
    "}"
   ]
  },
  {
   "cell_type": "code",
   "execution_count": 96,
   "id": "508ebf18",
   "metadata": {},
   "outputs": [
    {
     "name": "stdout",
     "output_type": "stream",
     "text": [
      "transformedAbalone, training size 0.2, test accuracy 0.781867145421903\n",
      "transformedAbalone, training size 0.2, test accuracy 0.7935368043087971\n",
      "transformedAbalone, training size 0.2, test accuracy 0.7803710353081987\n",
      "{'test_accuracies': [0.781867145421903, 0.7935368043087971, 0.7803710353081987], 'best_params': [{'C': 10, 'penalty': 'l2'}, {'C': 10, 'penalty': 'l2'}, {'C': 10, 'penalty': 'l2'}], 'avg_accuracy': np.float64(0.7852583283462996)}\n",
      "transformedAbalone, training size 0.5, test accuracy 0.7879368118717089\n",
      "transformedAbalone, training size 0.5, test accuracy 0.7898516036381044\n",
      "transformedAbalone, training size 0.5, test accuracy 0.781235040689325\n",
      "{'test_accuracies': [0.7879368118717089, 0.7898516036381044, 0.781235040689325], 'best_params': [{'C': 10, 'penalty': 'l2'}, {'C': 10, 'penalty': 'l2'}, {'C': 10, 'penalty': 'l2'}], 'avg_accuracy': np.float64(0.7863411520663793)}\n",
      "transformedAbalone, training size 0.8, test accuracy 0.7811004784688995\n",
      "transformedAbalone, training size 0.8, test accuracy 0.7906698564593302\n",
      "transformedAbalone, training size 0.8, test accuracy 0.7667464114832536\n",
      "{'test_accuracies': [0.7811004784688995, 0.7906698564593302, 0.7667464114832536], 'best_params': [{'C': 10, 'penalty': 'l2'}, {'C': 10, 'penalty': 'l2'}, {'C': 10, 'penalty': 'l2'}], 'avg_accuracy': np.float64(0.779505582137161)}\n",
      "transformedAdult, training size 0.2, test accuracy 0.65263346470799\n",
      "transformedAdult, training size 0.2, test accuracy 0.6540154578492092\n",
      "transformedAdult, training size 0.2, test accuracy 0.6553974509904285\n",
      "{'test_accuracies': [0.65263346470799, 0.6540154578492092, 0.6553974509904285], 'best_params': [{'C': 0.1, 'penalty': 'l2'}, {'C': 0.1, 'penalty': 'l2'}, {'C': 0.1, 'penalty': 'l2'}], 'avg_accuracy': np.float64(0.6540154578492091)}\n",
      "transformedAdult, training size 0.5, test accuracy 0.6527988206871136\n",
      "transformedAdult, training size 0.5, test accuracy 0.6564841734572704\n",
      "transformedAdult, training size 0.5, test accuracy 0.6598828876786372\n",
      "{'test_accuracies': [0.6527988206871136, 0.6564841734572704, 0.6598828876786372], 'best_params': [{'C': 0.1, 'penalty': 'l2'}, {'C': 0.1, 'penalty': 'l2'}, {'C': 0.1, 'penalty': 'l2'}], 'avg_accuracy': np.float64(0.6563886272743403)}\n",
      "transformedAdult, training size 0.8, test accuracy 0.6484798853516225\n",
      "transformedAdult, training size 0.8, test accuracy 0.6515508240352135\n",
      "transformedAdult, training size 0.8, test accuracy 0.6603541815948408\n",
      "{'test_accuracies': [0.6484798853516225, 0.6515508240352135, 0.6603541815948408], 'best_params': [{'C': 0.1, 'penalty': 'l2'}, {'C': 0.1, 'penalty': 'l2'}, {'C': 0.1, 'penalty': 'l2'}], 'avg_accuracy': np.float64(0.6534616303272256)}\n",
      "transformedBankMarketing, training size 0.2, test accuracy 0.89264287096685\n",
      "transformedBankMarketing, training size 0.2, test accuracy 0.8916475434764577\n",
      "transformedBankMarketing, training size 0.2, test accuracy 0.8931681826978904\n",
      "{'test_accuracies': [0.89264287096685, 0.8916475434764577, 0.8931681826978904], 'best_params': [{'C': 10, 'penalty': 'l2'}, {'C': 10, 'penalty': 'l2'}, {'C': 10, 'penalty': 'l2'}], 'avg_accuracy': np.float64(0.8924861990470659)}\n",
      "transformedBankMarketing, training size 0.5, test accuracy 0.8943643280544988\n",
      "transformedBankMarketing, training size 0.5, test accuracy 0.892240997965142\n",
      "transformedBankMarketing, training size 0.5, test accuracy 0.8930372467486508\n",
      "{'test_accuracies': [0.8943643280544988, 0.892240997965142, 0.8930372467486508], 'best_params': [{'C': 10, 'penalty': 'l2'}, {'C': 10, 'penalty': 'l2'}, {'C': 10, 'penalty': 'l2'}], 'avg_accuracy': np.float64(0.8932141909227639)}\n",
      "transformedBankMarketing, training size 0.8, test accuracy 0.8917394669910428\n",
      "transformedBankMarketing, training size 0.8, test accuracy 0.8941722879575362\n",
      "transformedBankMarketing, training size 0.8, test accuracy 0.8919606325334513\n",
      "{'test_accuracies': [0.8917394669910428, 0.8941722879575362, 0.8919606325334513], 'best_params': [{'C': 10, 'penalty': 'l2'}, {'C': 10, 'penalty': 'l2'}, {'C': 10, 'penalty': 'l2'}], 'avg_accuracy': np.float64(0.8926241291606768)}\n"
     ]
    }
   ],
   "source": [
    "for dataset_name, dataset in transformed_datasets.items():\n",
    "    X = dataset.iloc[:, :-1].values\n",
    "    y = dataset.iloc[:, -1].values\n",
    "\n",
    "    dataset_results = {}\n",
    "\n",
    "    for training_size in (0.2, 0.5, 0.8):\n",
    "        partition_results = {'test_accuracies': [], 'best_params': []}\n",
    "\n",
    "        for seed in random_seeds:\n",
    "            Xtrain, Xtest, ytrain, ytest = train_test_split(X, y, train_size=training_size, stratify=y, random_state=seed)\n",
    "\n",
    "            cv = StratifiedKFold(n_splits=3, shuffle=True, random_state=seed)\n",
    "            grid_search = GridSearchCV(LogisticRegression(random_state=seed, max_iter=1000), param_grid=param_grid, cv=cv, scoring='accuracy', n_jobs=-1)\n",
    "            \n",
    "            grid_search.fit(Xtrain, ytrain)\n",
    "            best_params = grid_search.best_params_\n",
    "\n",
    "            best_LR = LogisticRegression(**best_params, random_state=seed, max_iter=1000)\n",
    "            best_LR.fit(Xtrain, ytrain)\n",
    "\n",
    "            y_pred = best_LR.predict(Xtest)\n",
    "            test_accuracy = accuracy_score(ytest, y_pred)\n",
    "\n",
    "            partition_results['test_accuracies'].append(test_accuracy)\n",
    "            partition_results['best_params'].append(best_params)\n",
    "\n",
    "            print(f\"{dataset_name}, training size {training_size}, test accuracy {test_accuracy}\")\n",
    "        \n",
    "        avg_accuracy = np.mean(partition_results['test_accuracies'])\n",
    "        partition_results['avg_accuracy'] = avg_accuracy \n",
    "\n",
    "        print(partition_results)\n",
    "        dataset_results[training_size] = partition_results\n",
    "\n",
    "    LR_results[dataset_name] = dataset_results"
   ]
  },
  {
   "cell_type": "code",
   "execution_count": 97,
   "id": "4c9fe73c",
   "metadata": {},
   "outputs": [
    {
     "name": "stdout",
     "output_type": "stream",
     "text": [
      "transformedAbalone with training size 0.2; average accuracy: 0.7852583283462996\n",
      "transformedAbalone with training size 0.5; average accuracy: 0.7863411520663793\n",
      "transformedAbalone with training size 0.8; average accuracy: 0.779505582137161\n",
      "transformedAdult with training size 0.2; average accuracy: 0.6540154578492091\n",
      "transformedAdult with training size 0.5; average accuracy: 0.6563886272743403\n",
      "transformedAdult with training size 0.8; average accuracy: 0.6534616303272256\n",
      "transformedBankMarketing with training size 0.2; average accuracy: 0.8924861990470659\n",
      "transformedBankMarketing with training size 0.5; average accuracy: 0.8932141909227639\n",
      "transformedBankMarketing with training size 0.8; average accuracy: 0.8926241291606768\n"
     ]
    }
   ],
   "source": [
    "for dataset_name, results in LR_results.items():\n",
    "    for training_size in (0.2, 0.5, 0.8):\n",
    "        avg_accuracy = results[training_size]['avg_accuracy']\n",
    "        print(f\"{dataset_name} with training size {training_size}; average accuracy: {avg_accuracy}\")"
   ]
  },
  {
   "cell_type": "code",
   "execution_count": null,
   "id": "7972a0fe",
   "metadata": {},
   "outputs": [],
   "source": [
    "# Figure 1: Average Classification Accuracy Per Model"
   ]
  },
  {
   "cell_type": "code",
   "execution_count": 98,
   "id": "c3c3398f",
   "metadata": {},
   "outputs": [],
   "source": [
    "results_dict = {\n",
    "    'SVM': SVM_results,\n",
    "    'ANN': ANN_results,\n",
    "    'LogReg': LR_results\n",
    "}"
   ]
  },
  {
   "cell_type": "code",
   "execution_count": 110,
   "id": "9329a3ab",
   "metadata": {},
   "outputs": [],
   "source": [
    "def extract_accuracies(results):\n",
    "    accuracies = []\n",
    "    for dataset, dataset_results in results.items():\n",
    "        for training_size, partition_results in dataset_results.items():\n",
    "            print(partition_results)\n",
    "            accuracies.append(partition_results['avg_accuracy'])\n",
    "    return accuracies"
   ]
  },
  {
   "cell_type": "code",
   "execution_count": null,
   "id": "a6b1f39f",
   "metadata": {},
   "outputs": [],
   "source": [
    "overall_accuracies = {model: np.mean(extract_accuracies(results)) for model, results in results_dict.items()}"
   ]
  },
  {
   "cell_type": "code",
   "execution_count": 113,
   "id": "81b8cb44",
   "metadata": {},
   "outputs": [],
   "source": [
    "overall_accuracy_table = pd.DataFrame.from_dict(overall_accuracies, orient='index', columns=['Average Accuracy'])"
   ]
  },
  {
   "cell_type": "code",
   "execution_count": 114,
   "id": "6c963b3f",
   "metadata": {},
   "outputs": [
    {
     "name": "stdout",
     "output_type": "stream",
     "text": [
      "        Average Accuracy\n",
      "SVM             0.788065\n",
      "ANN             0.757759\n",
      "LogReg          0.777033\n"
     ]
    }
   ],
   "source": [
    "print(overall_accuracy_table)"
   ]
  },
  {
   "cell_type": "code",
   "execution_count": 115,
   "id": "5210d42c",
   "metadata": {},
   "outputs": [],
   "source": [
    "# Figure 2: Average Classification Error Per Model Per Dataset"
   ]
  },
  {
   "cell_type": "code",
   "execution_count": 116,
   "id": "a6d99aaa",
   "metadata": {},
   "outputs": [],
   "source": [
    "dataset_model_accuracies = {}"
   ]
  },
  {
   "cell_type": "code",
   "execution_count": 117,
   "id": "0cbafc91",
   "metadata": {},
   "outputs": [],
   "source": [
    "for model, results in results_dict.items():\n",
    "    dataset_model_accuracies[model] = {}\n",
    "    for dataset, dataset_results in results.items():\n",
    "        all_dataset_accuracies = []\n",
    "        for training_size, partition_results in dataset_results.items():\n",
    "            all_dataset_accuracies.append(partition_results['avg_accuracy'])\n",
    "        dataset_model_accuracies[model][dataset] = np.mean(all_dataset_accuracies)"
   ]
  },
  {
   "cell_type": "code",
   "execution_count": 118,
   "id": "87382605",
   "metadata": {},
   "outputs": [],
   "source": [
    "dataset_model_accuracy_table = pd.DataFrame(dataset_model_accuracies).T"
   ]
  },
  {
   "cell_type": "code",
   "execution_count": 119,
   "id": "8aca1b94",
   "metadata": {},
   "outputs": [
    {
     "name": "stdout",
     "output_type": "stream",
     "text": [
      "        transformedAbalone  transformedAdult  transformedBankMarketing\n",
      "SVM               0.794881          0.670236                  0.899076\n",
      "ANN               0.787489          0.605515                  0.880273\n",
      "LogReg            0.783702          0.654622                  0.892775\n"
     ]
    }
   ],
   "source": [
    "print(dataset_model_accuracy_table)"
   ]
  },
  {
   "cell_type": "code",
   "execution_count": 120,
   "id": "5ff5e703",
   "metadata": {},
   "outputs": [],
   "source": [
    "# Figure 3: Average Classification Error Per Model Per Dataset Per Partition"
   ]
  },
  {
   "cell_type": "code",
   "execution_count": 121,
   "id": "8656b1b3",
   "metadata": {},
   "outputs": [],
   "source": [
    "dataset_model_partition_accuracies = {}"
   ]
  },
  {
   "cell_type": "code",
   "execution_count": 123,
   "id": "c3fdcedd",
   "metadata": {},
   "outputs": [],
   "source": [
    "for model, results in results_dict.items():\n",
    "    dataset_model_partition_accuracies[model] = {}\n",
    "    for dataset, dataset_results in results.items():\n",
    "        dataset_model_partition_accuracies[model][dataset] = {}\n",
    "        for training_size, partition_results in dataset_results.items():\n",
    "            dataset_model_partition_accuracies[model][dataset][training_size] = partition_results['avg_accuracy']"
   ]
  },
  {
   "cell_type": "code",
   "execution_count": 124,
   "id": "c4f8b1c9",
   "metadata": {},
   "outputs": [],
   "source": [
    "dataset_model_partition_accuracy_table = pd.DataFrame(dataset_model_partition_accuracies).T"
   ]
  },
  {
   "cell_type": "code",
   "execution_count": 125,
   "id": "ed87fa8e",
   "metadata": {},
   "outputs": [
    {
     "name": "stdout",
     "output_type": "stream",
     "text": [
      "                                       transformedAbalone  \\\n",
      "SVM     {0.2: 0.7870536604827448, 0.5: 0.7973512047231...   \n",
      "ANN     {0.2: 0.7798723319369639, 0.5: 0.7903303015797...   \n",
      "LogReg  {0.2: 0.7852583283462996, 0.5: 0.7863411520663...   \n",
      "\n",
      "                                         transformedAdult  \\\n",
      "SVM     {0.2: 0.6688932111719644, 0.5: 0.6717715627260...   \n",
      "ANN     {0.2: 0.5968930746788145, 0.5: 0.6136521845952...   \n",
      "LogReg  {0.2: 0.6540154578492091, 0.5: 0.6563886272743...   \n",
      "\n",
      "                                 transformedBankMarketing  \n",
      "SVM     {0.2: 0.8953984535559917, 0.5: 0.8989206405379...  \n",
      "ANN     {0.2: 0.8790953579031768, 0.5: 0.8790881476894...  \n",
      "LogReg  {0.2: 0.8924861990470659, 0.5: 0.8932141909227...  \n"
     ]
    }
   ],
   "source": [
    "print(dataset_model_partition_accuracy_table)"
   ]
  },
  {
   "cell_type": "code",
   "execution_count": null,
   "id": "b5cfa21d",
   "metadata": {},
   "outputs": [],
   "source": []
  }
 ],
 "metadata": {
  "kernelspec": {
   "display_name": "env",
   "language": "python",
   "name": "python3"
  },
  "language_info": {
   "codemirror_mode": {
    "name": "ipython",
    "version": 3
   },
   "file_extension": ".py",
   "mimetype": "text/x-python",
   "name": "python",
   "nbconvert_exporter": "python",
   "pygments_lexer": "ipython3",
   "version": "3.12.5"
  }
 },
 "nbformat": 4,
 "nbformat_minor": 5
}
